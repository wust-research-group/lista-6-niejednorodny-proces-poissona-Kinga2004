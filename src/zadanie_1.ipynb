{
 "cells": [
  {
   "cell_type": "code",
   "execution_count": 12,
   "metadata": {},
   "outputs": [
    {
     "name": "stdout",
     "output_type": "stream",
     "text": [
      "Number of events: 53\n",
      "Expected number of events (Poisson mean): 53.678112345515004\n",
      "Generated number of events: 53\n",
      "Probability of generating exactly 53 events: 0.05447800558184707\n"
     ]
    }
   ],
   "source": [
    "import numpy as np\n",
    "\n",
    "def generate_inhomogeneous_poisson(lambda_func, lambda_max, T):\n",
    "    events = []\n",
    "    t = 0\n",
    "    while t < T:\n",
    "        # Generate a candidate time\n",
    "        u = np.random.exponential(1 / lambda_max)\n",
    "        t += u\n",
    "        \n",
    "        if t >= T:\n",
    "            break\n",
    "        \n",
    "        # Thinning step\n",
    "        r = np.random.uniform(0, 1)\n",
    "        if r <= lambda_func(t) / lambda_max:\n",
    "            events.append(t)\n",
    "    \n",
    "    return np.array(events)\n",
    "\n",
    "# Example lambda function\n",
    "def lambda_func(t):\n",
    "    # Example of a simple non-homogeneous intensity function\n",
    "    return 5 + 2 * np.sin(t)\n",
    "\n",
    "# Maximum lambda value (chosen to bound the lambda function)\n",
    "lambda_max = 7  # Example upper bound\n",
    "\n",
    "# Total time\n",
    "T = 10\n",
    "\n",
    "# Generate inhomogeneous Poisson process\n",
    "events = generate_inhomogeneous_poisson(lambda_func, lambda_max, T)\n",
    "\n",
    "# Verify against the expected Poisson distribution\n",
    "expected_lambda = np.trapz([lambda_func(t) for t in np.linspace(0, T, 1000)], np.linspace(0, T, 1000))\n",
    "print(f\"Number of events: {len(events)}\")\n",
    "print(f\"Expected number of events (Poisson mean): {expected_lambda}\")\n",
    "print(f\"Generated number of events: {len(events)}\")\n",
    "\n",
    "# Compare with a Poisson distribution\n",
    "import scipy.stats as stats\n",
    "\n",
    "poisson_dist = stats.poisson(expected_lambda)\n",
    "print(f\"Probability of generating exactly {len(events)} events: {poisson_dist.pmf(len(events))}\")\n"
   ]
  },
  {
   "cell_type": "code",
   "execution_count": 13,
   "metadata": {},
   "outputs": [
    {
     "name": "stdout",
     "output_type": "stream",
     "text": [
      "[0.41140357598520605, 0.8561960549060811, 0.9282356323408197, 0.3244703326158592, 0.3673680868643996, 0.1825707606773378, 0.8322974354930706, 0.2981268178284662, 0.5123261003963291, 0.29364123903342465, 0.5660667910973715, 0.5921477802332521, 0.810206159305853, 0.674851254725029, 0.3522397608747069, 0.6173320556818198, 0.3325845802296282, 0.4537482024700795, 0.5676762771546181, 0.2346629378379661, 0.37957430218820765, 0.7694095765419373, 0.2514904545777217, 0.6117105118888273, 0.10846791690667856, 0.018348533382814725, 0.6150483041060407, 0.29349746749415206, 0.43227069141898367, 0.5360369537842835, 0.486323795122128, 0.2306555550632653, 0.1951706418217477, 0.11975029649555657, 0.32373652540501785, 0.40893670107268265, 0.7420965873579245, 0.5694046968754115, 0.6430612780968115, 0.4753304302745236, 0.5307900587790222, 0.05683213028425371, 0.6093688426172852, 0.17265761214478437, 0.6312502245321158, 0.47565214927553723, 0.8319040007637512, 0.4460926939529848, 0.7216415151129345, 0.3672280448237133, 0.658650403889114, 0.4951217836145313, 0.4030260267976511, 0.6628663778734619, 0.9454201567530145, 0.39702904894627855, 0.3580575192458225, 0.08273409592343761, 0.4757757836922485, 0.9244752253176679, 0.9357499494526765, 0.36898481927396487, 0.21898962598058236, 0.3611393531212589, 0.2991932387060884, 0.4807202494891557, 0.7837495769932802, 0.8441262431795058, 0.856016498504645, 0.11012524644600175, 0.11967411207037093, 0.8524847887920474, 0.226959640545235, 0.9498410795496623, 0.9525429043975289, 0.21130530260352642, 0.48751603324058346, 0.896283329922454, 0.7449882938191299, 0.805267291581569, 0.7826701942408342, 0.6177769168478374, 0.3934023860922856, 0.7557518980669492, 0.8702040463635096, 0.47067504347894207, 0.19661958803832835, 0.9053451222529616, 0.858759594556912, 0.8141448539195305, 0.6319632785332127, 0.5668168530423794, 0.5516051993488345, 0.8201445735517827, 0.24177129456856405, 0.29301746706657106, 0.3740919531832291, 0.5648810434732585, 0.050337828082222646, 0.5304543887689668, 0.5801872382241458, 0.027440683089624995, 0.41437335945603193, 0.9376085426089337, 0.5110686179711781, 0.3587971730513927, 0.0055638361690731886, 0.12704074042732816, 0.511487587538744, 0.6274080078430456, 0.17672362193467062, 0.06066814906099971, 0.04695561497924361, 0.13329026505524633, 0.3751003543320911, 0.06350837746471838, 0.5578444238851892, 0.684027787832718, 0.4938810484399343, 0.728175528625983, 0.4310994420161238, 0.9926469904436972, 0.05351819448169082, 0.8667997542179076, 0.8142722638755361, 0.002486642358269897, 0.373162966720303, 0.4939166343966098, 0.04557501078966575]\n"
     ]
    }
   ],
   "source": [
    "t = 0\n",
    "I = 0\n",
    "\n",
    "results = []\n",
    "while t <= I:\n",
    "    u = np.random.uniform()\n",
    "    results.append(u)\n",
    "    t = t - np.log(u)\n",
    "    I += 1\n",
    "\n",
    "print(results)"
   ]
  },
  {
   "cell_type": "code",
   "execution_count": 14,
   "metadata": {},
   "outputs": [],
   "source": [
    "import matplotlib.pyplot as plt\n",
    "import typing"
   ]
  },
  {
   "cell_type": "code",
   "execution_count": 15,
   "metadata": {},
   "outputs": [],
   "source": [
    "#def p(T: typing.Union[float, int]=10, lam: typing.Union[float, int]=[1,2]) -> typing.List[float]:), też nie zawsze musi być to typing tylko T: float=10 na przykład\n",
    "def p(T: typing.Union[float, int], lam: typing.Union[float, int]) -> typing.List[float]: #sam float powinien zadziałać (pep484)\n",
    "    #docstringi\n",
    "    t = [0]\n",
    "    S = 0\n",
    "\n",
    "    while (S:=S - np.log(np.random.uniform()) * (1/lam)) <= T:\n",
    "        t.append(S)\n",
    "\n",
    "    return t"
   ]
  },
  {
   "cell_type": "code",
   "execution_count": null,
   "metadata": {},
   "outputs": [],
   "source": [
    "def p(T, lam):  \n",
    "    S = []\n",
    "    t = 0\n",
    "    \n",
    "    while (t:=t - np.log(np.random.uniform()) * (1/lam)) <= T:\n",
    "        S.append(t)\n",
    "\n",
    "    return t"
   ]
  },
  {
   "cell_type": "code",
   "execution_count": 16,
   "metadata": {},
   "outputs": [],
   "source": [
    "def plot(T, lam_fun):\n",
    "    plt.figure(figsize=(12,6))\n",
    "\n",
    "    for lams in lam:\n",
    "        t = p(T, lams)\n",
    "        skoki = list(range(len(t)))\n",
    "        plt.step(t + [T], skoki +[skoki[-1]], label=f\"lambda = {lams}\")\n",
    "\n",
    "    plt.show()"
   ]
  },
  {
   "cell_type": "code",
   "execution_count": 18,
   "metadata": {},
   "outputs": [
    {
     "ename": "TypeError",
     "evalue": "'numpy.float64' object is not iterable",
     "output_type": "error",
     "traceback": [
      "\u001b[1;31m---------------------------------------------------------------------------\u001b[0m",
      "\u001b[1;31mTypeError\u001b[0m                                 Traceback (most recent call last)",
      "Cell \u001b[1;32mIn[18], line 1\u001b[0m\n\u001b[1;32m----> 1\u001b[0m \u001b[43mplot\u001b[49m\u001b[43m(\u001b[49m\u001b[38;5;241;43m10\u001b[39;49m\u001b[43m,\u001b[49m\u001b[43m \u001b[49m\u001b[43mt\u001b[49m\u001b[43m)\u001b[49m\n",
      "Cell \u001b[1;32mIn[16], line 4\u001b[0m, in \u001b[0;36mplot\u001b[1;34m(T, lam)\u001b[0m\n\u001b[0;32m      1\u001b[0m \u001b[38;5;28;01mdef\u001b[39;00m \u001b[38;5;21mplot\u001b[39m(T, lam):\n\u001b[0;32m      2\u001b[0m     plt\u001b[38;5;241m.\u001b[39mfigure(figsize\u001b[38;5;241m=\u001b[39m(\u001b[38;5;241m12\u001b[39m,\u001b[38;5;241m6\u001b[39m))\n\u001b[1;32m----> 4\u001b[0m     \u001b[38;5;28;01mfor\u001b[39;00m lams \u001b[38;5;129;01min\u001b[39;00m lam:\n\u001b[0;32m      5\u001b[0m         t \u001b[38;5;241m=\u001b[39m p(T, lams)\n\u001b[0;32m      6\u001b[0m         skoki \u001b[38;5;241m=\u001b[39m \u001b[38;5;28mlist\u001b[39m(\u001b[38;5;28mrange\u001b[39m(\u001b[38;5;28mlen\u001b[39m(t)))\n",
      "\u001b[1;31mTypeError\u001b[0m: 'numpy.float64' object is not iterable"
     ]
    },
    {
     "data": {
      "text/plain": [
       "<Figure size 1200x600 with 0 Axes>"
      ]
     },
     "metadata": {},
     "output_type": "display_data"
    }
   ],
   "source": [
    "plot(10, t)"
   ]
  },
  {
   "cell_type": "code",
   "execution_count": null,
   "metadata": {},
   "outputs": [],
   "source": []
  }
 ],
 "metadata": {
  "kernelspec": {
   "display_name": "Python 3",
   "language": "python",
   "name": "python3"
  },
  "language_info": {
   "codemirror_mode": {
    "name": "ipython",
    "version": 3
   },
   "file_extension": ".py",
   "mimetype": "text/x-python",
   "name": "python",
   "nbconvert_exporter": "python",
   "pygments_lexer": "ipython3",
   "version": "3.10.8"
  }
 },
 "nbformat": 4,
 "nbformat_minor": 2
}
